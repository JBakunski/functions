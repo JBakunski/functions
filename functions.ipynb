{
 "cells": [
  {
   "cell_type": "markdown",
   "id": "ae6ff7d3",
   "metadata": {},
   "source": [
    "## Opis tworzenia funkcji w pythonie\n",
    "Do stworzenia funkcji w pythonie wykorzystujemy słowo kluczowe def"
   ]
  },
  {
   "cell_type": "code",
   "execution_count": 2,
   "id": "6fd87518",
   "metadata": {},
   "outputs": [],
   "source": [
    "def add_numbers(num_1, num_2):\n",
    "    return num_1 + num_2"
   ]
  },
  {
   "cell_type": "markdown",
   "id": "52742a7c",
   "metadata": {},
   "source": [
    "### Wykonanie funkcji\n",
    "Do wykonania funkcji w pythonie wykorzystujemy dwóch nawiasów ()"
   ]
  },
  {
   "cell_type": "code",
   "execution_count": 3,
   "id": "1105582a",
   "metadata": {},
   "outputs": [
    {
     "data": {
      "text/plain": [
       "9"
      ]
     },
     "execution_count": 3,
     "metadata": {},
     "output_type": "execute_result"
    }
   ],
   "source": [
    "add_numbers(4, 5)"
   ]
  },
  {
   "cell_type": "code",
   "execution_count": null,
   "id": "aadf75c7",
   "metadata": {},
   "outputs": [],
   "source": []
  }
 ],
 "metadata": {
  "kernelspec": {
   "display_name": "Python 3 (ipykernel)",
   "language": "python",
   "name": "python3"
  },
  "language_info": {
   "codemirror_mode": {
    "name": "ipython",
    "version": 3
   },
   "file_extension": ".py",
   "mimetype": "text/x-python",
   "name": "python",
   "nbconvert_exporter": "python",
   "pygments_lexer": "ipython3",
   "version": "3.9.7"
  }
 },
 "nbformat": 4,
 "nbformat_minor": 5
}
